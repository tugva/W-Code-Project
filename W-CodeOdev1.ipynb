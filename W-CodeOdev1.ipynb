{
 "cells": [
  {
   "cell_type": "code",
   "execution_count": 2,
   "id": "d06d0340-0dd6-4025-88da-ac934d58494e",
   "metadata": {},
   "outputs": [
    {
     "name": "stdout",
     "output_type": "stream",
     "text": [
      "a_str: 10, b_int: 20, c_int: 3\n"
     ]
    }
   ],
   "source": [
    "# Değişkenler\n",
    "a = 10          # integer\n",
    "b = \"20\"        # string\n",
    "c = 3.14        # float\n",
    "\n",
    "# Veri tipleri arasında dönüşüm\n",
    "a_str = str(a)  # int -> str\n",
    "b_int = int(b)  # str -> int\n",
    "c_int = int(c)  # float -> int\n",
    "\n",
    "# Sonuçlar\n",
    "print(f\"a_str: {a_str}, b_int: {b_int}, c_int: {c_int}\")\n",
    "\n"
   ]
  },
  {
   "cell_type": "code",
   "execution_count": 4,
   "id": "cfab939f-79d3-4999-bdd4-1e7f8bc9e455",
   "metadata": {},
   "outputs": [
    {
     "name": "stdout",
     "output_type": "stream",
     "text": [
      "False\n",
      "True\n",
      "True\n"
     ]
    }
   ],
   "source": [
    "# İsimlere yaş değerleri atama\n",
    "ahmet = 25\n",
    "mehmet = 30\n",
    "ayşe = 28\n",
    "\n",
    "# Karşılaştırma operatörleri ve mantıksal operatörler\n",
    "print(ahmet > mehmet)       # False\n",
    "print(mehmet >= ayşe)       # True\n",
    "print(ahmet < ayşe and mehmet > ayşe)  # False\n",
    "\n"
   ]
  },
  {
   "cell_type": "code",
   "execution_count": 6,
   "id": "db326a2c-9cb3-4aa8-a401-d19c9f85a6ca",
   "metadata": {},
   "outputs": [
    {
     "name": "stdin",
     "output_type": "stream",
     "text": [
      "Birinci sayıyı girin:  5\n",
      "İkinci sayıyı girin:  7\n"
     ]
    },
    {
     "name": "stdout",
     "output_type": "stream",
     "text": [
      "Toplam: 12, Fark: -2, Çarpım: 35, Bölüm: 0.7142857142857143\n"
     ]
    }
   ],
   "source": [
    "# Kullanıcıdan iki değer al\n",
    "sayi1 = int(input(\"Birinci sayıyı girin: \"))\n",
    "sayi2 = int(input(\"İkinci sayıyı girin: \"))\n",
    "\n",
    "# İşlemler\n",
    "toplam = sayi1 + sayi2\n",
    "fark = sayi1 - sayi2\n",
    "carpim = sayi1 * sayi2\n",
    "bolum = sayi1 / sayi2 if sayi2 != 0 else \"Tanımsız (Bölme sıfır ile yapılamaz)\"\n",
    "\n",
    "# Sonuçları yazdır\n",
    "print(f\"Toplam: {toplam}, Fark: {fark}, Çarpım: {carpim}, Bölüm: {bolum}\")\n"
   ]
  },
  {
   "cell_type": "code",
   "execution_count": 8,
   "id": "ae04dbe0-f29a-4523-96f7-35c718b655f3",
   "metadata": {},
   "outputs": [
    {
     "name": "stdin",
     "output_type": "stream",
     "text": [
      "İsminiz nedir?  zeliha\n",
      "Yaşınız kaç?  23\n",
      "Hangi şehirde yaşıyorsunuz?  istanbul \n",
      "Mesleğiniz nedir?  mühendis\n"
     ]
    },
    {
     "name": "stdout",
     "output_type": "stream",
     "text": [
      "İsim: zeliha, Yaş: 23, Şehir: istanbul , Meslek: mühendis\n"
     ]
    }
   ],
   "source": [
    "# Kullanıcıdan bilgileri al\n",
    "isim = input(\"İsminiz nedir? \")\n",
    "yas = input(\"Yaşınız kaç? \")\n",
    "sehir = input(\"Hangi şehirde yaşıyorsunuz? \")\n",
    "meslek = input(\"Mesleğiniz nedir? \")\n",
    "\n",
    "# Sonuçları yazdır\n",
    "print(f\"İsim: {isim}, Yaş: {yas}, Şehir: {sehir}, Meslek: {meslek}\")\n"
   ]
  },
  {
   "cell_type": "code",
   "execution_count": 10,
   "id": "266df86c-f11b-4b62-961e-33f2602d44cc",
   "metadata": {},
   "outputs": [
    {
     "name": "stdout",
     "output_type": "stream",
     "text": [
      "HI-KOD VERI BILIMI ATÖLYESI\n",
      "hi-kod veri bilimi atölyesi\n",
      "02468 13579\n"
     ]
    }
   ],
   "source": [
    "# İfade tanımlama\n",
    "ifade = \"Hi-Kod Veri Bilimi Atölyesi\"\n",
    "\n",
    "# Her bir kelimeyi seçme\n",
    "gelecek_hayalim = \"Gelecek Hayalim: W-Code\"\n",
    "veri = ifade.split()[1]  # 'Veri'\n",
    "bilimi = ifade.split()[2]  # 'Bilimi'\n",
    "atolyesi = ifade.split()[3]  # 'Atölyesi'\n",
    "\n",
    "# Tümünü büyük harfe çevirme\n",
    "ifade_upper = ifade.upper()\n",
    "print(ifade_upper)\n",
    "\n",
    "# Tümünü küçük harfe çevirme\n",
    "ifade_lower = ifade.lower()\n",
    "print(ifade_lower)\n",
    "\n",
    "# Çift ve tek sayıları seçme\n",
    "sayi_ifadesi = \"0123456789\"\n",
    "cift_sayilar = sayi_ifadesi[::2]  # \"02468\"\n",
    "tek_sayilar = sayi_ifadesi[1::2]  # \"13579\"\n",
    "print(cift_sayilar, tek_sayilar)\n"
   ]
  },
  {
   "cell_type": "code",
   "execution_count": null,
   "id": "92cd8f03-def1-487a-9c2d-43b50536033d",
   "metadata": {},
   "outputs": [],
   "source": []
  }
 ],
 "metadata": {
  "kernelspec": {
   "display_name": "Python 3 (ipykernel)",
   "language": "python",
   "name": "python3"
  },
  "language_info": {
   "codemirror_mode": {
    "name": "ipython",
    "version": 3
   },
   "file_extension": ".py",
   "mimetype": "text/x-python",
   "name": "python",
   "nbconvert_exporter": "python",
   "pygments_lexer": "ipython3",
   "version": "3.12.4"
  }
 },
 "nbformat": 4,
 "nbformat_minor": 5
}
