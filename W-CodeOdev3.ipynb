{
 "cells": [
  {
   "cell_type": "code",
   "execution_count": 2,
   "id": "a7ed4a20-793b-43d0-89e0-966f3e7e41db",
   "metadata": {},
   "outputs": [
    {
     "name": "stdin",
     "output_type": "stream",
     "text": [
      "Pi değerini girin (Örneğin, 3.14):  3.14\n",
      "Yarıçapı girin:  0.5\n"
     ]
    },
    {
     "name": "stdout",
     "output_type": "stream",
     "text": [
      "Dairenin Alanı: 0.79\n"
     ]
    }
   ],
   "source": [
    "def daire_alani(pi, yaricap):\n",
    "    \"\"\"\n",
    "    Verilen pi değeri ve yarıçap ile dairenin alanını hesaplar.\n",
    "    \n",
    "    Parameters:\n",
    "    pi (float): Pi sayısı\n",
    "    yaricap (float): Dairenin yarıçapı\n",
    "    \n",
    "    Returns:\n",
    "    float: Dairenin alanı\n",
    "    \"\"\"\n",
    "    alan = pi * (yaricap ** 2)\n",
    "    return alan\n",
    "\n",
    "# Kullanıcıdan pi ve yarıçap bilgisi al\n",
    "try:\n",
    "    pi = float(input(\"Pi değerini girin (Örneğin, 3.14): \"))\n",
    "    yaricap = float(input(\"Yarıçapı girin: \"))\n",
    "    \n",
    "    # Dairenin alanını hesapla\n",
    "    alan = daire_alani(pi, yaricap)\n",
    "    \n",
    "    # Sonucu yazdır\n",
    "    print(\"Dairenin Alanı: {:.2f}\".format(alan))\n",
    "except ValueError:\n",
    "    print(\"Lütfen geçerli sayısal değerler girin.\")\n"
   ]
  },
  {
   "cell_type": "code",
   "execution_count": 4,
   "id": "3226b796-6759-4e9f-8234-33b72b9a38ee",
   "metadata": {},
   "outputs": [
    {
     "name": "stdin",
     "output_type": "stream",
     "text": [
      "Faktöriyelini hesaplamak istediğiniz sayıyı girin:  65\n"
     ]
    },
    {
     "name": "stdout",
     "output_type": "stream",
     "text": [
      "65. sayısının faktöriyeli: 8247650592082470666723170306785496252186258551345437492922123134388955774976000000000000000\n"
     ]
    }
   ],
   "source": [
    "def faktoriyel(n):\n",
    "    \"\"\"\n",
    "    Verilen sayının faktöriyelini hesaplar.\n",
    "    \n",
    "    Parameters:\n",
    "    n (int): Faktöriyeli hesaplanacak sayı\n",
    "    \n",
    "    Returns:\n",
    "    int: Faktöriyel sonucu\n",
    "    \"\"\"\n",
    "    if n < 0:\n",
    "        return \"Negatif sayıların faktöriyeli tanımsızdır.\"\n",
    "    elif n == 0 or n == 1:\n",
    "        return 1\n",
    "    else:\n",
    "        sonuc = 1\n",
    "        for i in range(2, n + 1):\n",
    "            sonuc *= i\n",
    "        return sonuc\n",
    "\n",
    "# Kullanıcıdan sayı al\n",
    "try:\n",
    "    sayi = int(input(\"Faktöriyelini hesaplamak istediğiniz sayıyı girin: \"))\n",
    "    sonuc = faktoriyel(sayi)\n",
    "    \n",
    "    if isinstance(sonuc, int):\n",
    "        print(\"{}. sayısının faktöriyeli: {}\".format(sayi, sonuc))\n",
    "    else:\n",
    "        print(sonuc)\n",
    "except ValueError:\n",
    "    print(\"Lütfen geçerli bir tam sayı girin.\")\n"
   ]
  },
  {
   "cell_type": "code",
   "execution_count": 6,
   "id": "e570be8c-6f9b-47f7-adc3-d5eee9c5c743",
   "metadata": {},
   "outputs": [
    {
     "name": "stdin",
     "output_type": "stream",
     "text": [
      "Doğum yılınızı girin:  2001\n"
     ]
    },
    {
     "name": "stdout",
     "output_type": "stream",
     "text": [
      "Yaşınız: 23 yıl\n"
     ]
    }
   ],
   "source": [
    "from datetime import datetime\n",
    "\n",
    "def yas_hesapla(dogum_yili):\n",
    "    \"\"\"\n",
    "    Verilen doğum yılına göre kişinin yaşını hesaplar.\n",
    "    \n",
    "    Parameters:\n",
    "    dogum_yili (int): Kişinin doğum yılı\n",
    "    \n",
    "    Returns:\n",
    "    int: Kişinin yaşı\n",
    "    \"\"\"\n",
    "    mevcut_yil = datetime.now().year\n",
    "    yas = mevcut_yil - dogum_yili\n",
    "    return yas\n",
    "\n",
    "# Kullanıcıdan doğum yılı al\n",
    "try:\n",
    "    dogum_yili = int(input(\"Doğum yılınızı girin: \"))\n",
    "    yas = yas_hesapla(dogum_yili)\n",
    "    print(\"Yaşınız: {} yıl\".format(yas))\n",
    "except ValueError:\n",
    "    print(\"Lütfen geçerli bir doğum yılı girin.\")\n"
   ]
  },
  {
   "cell_type": "code",
   "execution_count": 8,
   "id": "76999b77-a3e7-4d1b-aeb0-9faef70ff59a",
   "metadata": {},
   "outputs": [
    {
     "name": "stdin",
     "output_type": "stream",
     "text": [
      "İsminizi girin:  zeliha\n",
      "Doğum yılınızı girin:  2001\n"
     ]
    },
    {
     "name": "stdout",
     "output_type": "stream",
     "text": [
      "zeliha emekliliğine 42 yıl kaldı.\n"
     ]
    }
   ],
   "source": [
    "from datetime import datetime\n",
    "\n",
    "def yas_hesapla(dogum_yili):\n",
    "    \"\"\"\n",
    "    Verilen doğum yılına göre kişinin yaşını hesaplar.\n",
    "    \n",
    "    Parameters:\n",
    "    dogum_yili (int): Kişinin doğum yılı\n",
    "    \n",
    "    Returns:\n",
    "    int: Kişinin yaşı\n",
    "    \"\"\"\n",
    "    mevcut_yil = datetime.now().year\n",
    "    yas = mevcut_yil - dogum_yili\n",
    "    return yas\n",
    "\n",
    "def emeklilik_durumu(isim, dogum_yili):\n",
    "    \"\"\"\n",
    "    Kişinin emeklilik durumunu belirler.\n",
    "    \n",
    "    Parameters:\n",
    "    isim (str): Kişinin ismi\n",
    "    dogum_yili (int): Kişinin doğum yılı\n",
    "    \n",
    "    Returns:\n",
    "    None\n",
    "    \"\"\"\n",
    "    yas = yas_hesapla(dogum_yili)\n",
    "    emeklilik_yasi = 65\n",
    "    \n",
    "    if yas >= emeklilik_yasi:\n",
    "        print(\"Emekli oldunuz.\")\n",
    "    else:\n",
    "        kalacak_yil = emeklilik_yasi - yas\n",
    "        print(\"{} emekliliğine {} yıl kaldı.\".format(isim, kalacak_yil))\n",
    "\n",
    "# Kullanıcıdan isim ve doğum yılı al\n",
    "try:\n",
    "    isim = input(\"İsminizi girin: \")\n",
    "    dogum_yili = int(input(\"Doğum yılınızı girin: \"))\n",
    "    \n",
    "    emeklilik_durumu(isim, dogum_yili)\n",
    "except ValueError:\n",
    "    print(\"Lütfen geçerli bir doğum yılı girin.\")\n"
   ]
  },
  {
   "cell_type": "code",
   "execution_count": null,
   "id": "019aa4cc-18c2-494f-97d2-009fe5fba3fc",
   "metadata": {},
   "outputs": [
    {
     "name": "stdout",
     "output_type": "stream",
     "text": [
      "\n",
      "--- Python Fonksiyon Ödevleri ---\n",
      "1. Dairenin Alanını Hesapla\n",
      "2. Faktöriyel Hesapla\n",
      "3. Yaş Hesapla\n",
      "4. Emeklilik Durumu Kontrol Et\n",
      "5. Çıkış\n"
     ]
    },
    {
     "name": "stdin",
     "output_type": "stream",
     "text": [
      "Seçiminizi yapın (1-5):  4\n",
      "İsminizi girin:  zeliha\n",
      "Doğum yılınızı girin:  2001\n"
     ]
    },
    {
     "name": "stdout",
     "output_type": "stream",
     "text": [
      "zeliha emekliliğine 42 yıl kaldı.\n",
      "\n",
      "--- Python Fonksiyon Ödevleri ---\n",
      "1. Dairenin Alanını Hesapla\n",
      "2. Faktöriyel Hesapla\n",
      "3. Yaş Hesapla\n",
      "4. Emeklilik Durumu Kontrol Et\n",
      "5. Çıkış\n"
     ]
    }
   ],
   "source": [
    "from datetime import datetime\n",
    "\n",
    "def daire_alani(pi, yaricap):\n",
    "    alan = pi * (yaricap ** 2)\n",
    "    return alan\n",
    "\n",
    "def faktoriyel(n):\n",
    "    if n < 0:\n",
    "        return \"Negatif sayıların faktöriyeli tanımsızdır.\"\n",
    "    elif n == 0 or n == 1:\n",
    "        return 1\n",
    "    else:\n",
    "        sonuc = 1\n",
    "        for i in range(2, n + 1):\n",
    "            sonuc *= i\n",
    "        return sonuc\n",
    "\n",
    "def yas_hesapla(dogum_yili):\n",
    "    mevcut_yil = datetime.now().year\n",
    "    yas = mevcut_yil - dogum_yili\n",
    "    return yas\n",
    "\n",
    "def emeklilik_durumu(isim, dogum_yili):\n",
    "    yas = yas_hesapla(dogum_yili)\n",
    "    emeklilik_yasi = 65\n",
    "    \n",
    "    if yas >= emeklilik_yasi:\n",
    "        print(\"Emekli oldunuz.\")\n",
    "    else:\n",
    "        kalacak_yil = emeklilik_yasi - yas\n",
    "        print(\"{} emekliliğine {} yıl kaldı.\".format(isim, kalacak_yil))\n",
    "\n",
    "def menu():\n",
    "    print(\"\\n--- Python Fonksiyon Ödevleri ---\")\n",
    "    print(\"1. Dairenin Alanını Hesapla\")\n",
    "    print(\"2. Faktöriyel Hesapla\")\n",
    "    print(\"3. Yaş Hesapla\")\n",
    "    print(\"4. Emeklilik Durumu Kontrol Et\")\n",
    "    print(\"5. Çıkış\")\n",
    "    \n",
    "    try:\n",
    "        secim = int(input(\"Seçiminizi yapın (1-5): \"))\n",
    "        return secim\n",
    "    except ValueError:\n",
    "        print(\"Lütfen geçerli bir seçenek girin.\")\n",
    "        return None\n",
    "\n",
    "def main():\n",
    "    while True:\n",
    "        secim = menu()\n",
    "        if secim == 1:\n",
    "            try:\n",
    "                pi = float(input(\"Pi değerini girin (Örneğin, 3.14): \"))\n",
    "                yaricap = float(input(\"Yarıçapı girin: \"))\n",
    "                alan = daire_alani(pi, yaricap)\n",
    "                print(\"Dairenin Alanı: {:.2f}\".format(alan))\n",
    "            except ValueError:\n",
    "                print(\"Lütfen geçerli sayısal değerler girin.\")\n",
    "        \n",
    "        elif secim == 2:\n",
    "            try:\n",
    "                sayi = int(input(\"Faktöriyelini hesaplamak istediğiniz sayıyı girin: \"))\n",
    "                sonuc = faktoriyel(sayi)\n",
    "                if isinstance(sonuc, int):\n",
    "                    print(\"{}. sayısının faktöriyeli: {}\".format(sayi, sonuc))\n",
    "                else:\n",
    "                    print(sonuc)\n",
    "            except ValueError:\n",
    "                print(\"Lütfen geçerli bir tam sayı girin.\")\n",
    "        \n",
    "        elif secim == 3:\n",
    "            try:\n",
    "                dogum_yili = int(input(\"Doğum yılınızı girin: \"))\n",
    "                yas = yas_hesapla(dogum_yili)\n",
    "                print(\"Yaşınız: {} yıl\".format(yas))\n",
    "            except ValueError:\n",
    "                print(\"Lütfen geçerli bir doğum yılı girin.\")\n",
    "        \n",
    "        elif secim == 4:\n",
    "            try:\n",
    "                isim = input(\"İsminizi girin: \")\n",
    "                dogum_yili = int(input(\"Doğum yılınızı girin: \"))\n",
    "                emeklilik_durumu(isim, dogum_yili)\n",
    "            except ValueError:\n",
    "                print(\"Lütfen geçerli bir doğum yılı girin.\")\n",
    "        \n",
    "        elif secim == 5:\n",
    "            print(\"Programdan çıkılıyor. İyi günler!\")\n",
    "            break\n",
    "        \n",
    "        else:\n",
    "            print(\"Geçersiz seçim. Lütfen 1-5 arasında bir seçenek girin.\")\n",
    "\n",
    "if __name__ == \"__main__\":\n",
    "    main()\n"
   ]
  },
  {
   "cell_type": "code",
   "execution_count": 19,
   "id": "7855fee0-fbf0-4214-babc-d9ef1818254f",
   "metadata": {},
   "outputs": [
    {
     "name": "stdout",
     "output_type": "stream",
     "text": [
      "3\n",
      "Hi-Kod\n",
      "4.7\n",
      "[9, '3', 8.4, 'Hi-Kod']\n",
      "[8.4, 'Hi-Kod', 'False', 4.7]\n",
      "['Python', '3', 'Hi-Kod', 'False']\n"
     ]
    }
   ],
   "source": [
    "#Ödev-5:\n",
    "#1.Aşağıdaki işlemleri indexing ve slicing kullanarak liste üzerinde uygulayın.\n",
    "\n",
    "        #liste = [\"Python\",True,9,\"3\",8.4,\"Hi-Kod\",\"False\",4.7]\n",
    "\n",
    "        #\"3\" değerine ulaşmak için indexleme yapın.\n",
    "\n",
    "        #\"Hi-Kod\" değerine ulaşmak için indexleme yapın.\n",
    "\n",
    "        #4.7 değerine ulaşmak için indexleme yapın.\n",
    "\n",
    "        #9,\"3\",8.4,\"Hi-Kod\" değerlerine ulaşmak için slicing yapın.\n",
    "\n",
    "        #8.4,\"Hi-Kod\",\"False\",4.7 değerlerine ulaşmak için slicing yapın.\n",
    "\n",
    "#2.Verilen listede bulunan string veri tipindeki öğeleri yeni_liste isimli listeye eklenir.\n",
    "\n",
    "        #liste = [\"Python\",True,9,\"3\",8.4,\"Hi-Kod\",\"False\",4.7]\n",
    "\n",
    "\n",
    "liste = [\"Python\", True, 9, \"3\", 8.4, \"Hi-Kod\", \"False\", 4.7]\n",
    "print(liste[3])\n",
    "print(liste[5])\n",
    "print(liste[7]) \n",
    "print(liste[2:6])\n",
    "print(liste[4:8])\n",
    "yeniListe = [item for item in liste if isinstance(item, str)]\n",
    "print(yeniListe)"
   ]
  },
  {
   "cell_type": "code",
   "execution_count": 21,
   "id": "ab91e96c-4a2e-41d2-bd24-4ef4768e80a7",
   "metadata": {},
   "outputs": [
    {
     "name": "stdout",
     "output_type": "stream",
     "text": [
      "0. indexte bulunan meyve: erik\n",
      "1. indexte bulunan meyve: elma\n",
      "2. indexte bulunan meyve: muz\n",
      "3. indexte bulunan meyve: çilek\n"
     ]
    }
   ],
   "source": [
    "#Ödev-5.2:\n",
    "#3.Enumerate methodunu araştırın ve aşağıdaki örneği enumerate methodu ile yapın.\n",
    "\n",
    "        #for index in range(len(meyveler)):\n",
    "\n",
    "            #print(\"{}. indexte bulunan meyve: {}\".format(index,meyveler[index])\n",
    "\n",
    "meyveler = [\"erik\", \"elma\", \"muz\", \"çilek\"]\n",
    "for index, meyve in enumerate(meyveler):\n",
    "    print(\"{}. indexte bulunan meyve: {}\".format(index, meyve))"
   ]
  },
  {
   "cell_type": "code",
   "execution_count": null,
   "id": "3d9308a3-316a-47ad-8e8e-19eca4f2d882",
   "metadata": {},
   "outputs": [],
   "source": []
  }
 ],
 "metadata": {
  "kernelspec": {
   "display_name": "Python 3 (ipykernel)",
   "language": "python",
   "name": "python3"
  },
  "language_info": {
   "codemirror_mode": {
    "name": "ipython",
    "version": 3
   },
   "file_extension": ".py",
   "mimetype": "text/x-python",
   "name": "python",
   "nbconvert_exporter": "python",
   "pygments_lexer": "ipython3",
   "version": "3.12.4"
  }
 },
 "nbformat": 4,
 "nbformat_minor": 5
}
