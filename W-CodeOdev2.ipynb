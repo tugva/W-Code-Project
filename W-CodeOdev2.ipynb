{
 "cells": [
  {
   "cell_type": "code",
   "execution_count": 2,
   "id": "40ef9004-6438-4b6b-9380-e2d47d50799f",
   "metadata": {},
   "outputs": [
    {
     "name": "stdin",
     "output_type": "stream",
     "text": [
      "Maaşınızı girin:  25000\n"
     ]
    },
    {
     "name": "stdout",
     "output_type": "stream",
     "text": [
      "Vergi Oranı: %10.0\n",
      "Kesinti Miktarı: 2500.00\n",
      "Yeni Maaşınız: 22500.00\n"
     ]
    }
   ],
   "source": [
    "# Kullanıcıdan maaş bilgisini al\n",
    "maas = float(input(\"Maaşınızı girin: \"))\n",
    "\n",
    "# Vergi oranlarını belirle ve kesinti yap\n",
    "if maas <= 10000:\n",
    "    vergi_orani = 0.05\n",
    "elif maas <= 25000:\n",
    "    vergi_orani = 0.10\n",
    "elif maas <= 45000:\n",
    "    vergi_orani = 0.25\n",
    "else:\n",
    "    vergi_orani = 0.30\n",
    "\n",
    "# Kesinti miktarını hesapla\n",
    "kesinti = maas * vergi_orani\n",
    "\n",
    "# Yeni maaşı hesapla\n",
    "yeni_maas = maas - kesinti\n",
    "\n",
    "# Sonuçları yazdır\n",
    "print(f\"Vergi Oranı: %{vergi_orani * 100}\")\n",
    "print(f\"Kesinti Miktarı: {kesinti:.2f}\")\n",
    "print(f\"Yeni Maaşınız: {yeni_maas:.2f}\")\n"
   ]
  },
  {
   "cell_type": "code",
   "execution_count": 4,
   "id": "29e8baad-b7fa-44e8-9a72-c09ab0a7b87c",
   "metadata": {},
   "outputs": [
    {
     "name": "stdin",
     "output_type": "stream",
     "text": [
      "Kullanıcı adınızı oluşturun:  tugva\n",
      "Şifrenizi oluşturun:  7eduf123\n"
     ]
    },
    {
     "name": "stdout",
     "output_type": "stream",
     "text": [
      "Hesabınız oluşturuldu.\n"
     ]
    }
   ],
   "source": [
    "# Kullanıcıdan kullanıcı adı ve şifre al\n",
    "kullanici_adi = input(\"Kullanıcı adınızı oluşturun: \")\n",
    "sifre = input(\"Şifrenizi oluşturun: \")\n",
    "\n",
    "# Şifrenin uzunluğunu kontrol et\n",
    "if len(sifre) >= 6:\n",
    "    print(\"Hesabınız oluşturuldu.\")\n",
    "else:\n",
    "    print(\"Lütfen en az altı haneli bir şifre oluşturunuz.\")\n"
   ]
  },
  {
   "cell_type": "code",
   "execution_count": 6,
   "id": "829cd8d4-f911-4bea-b1a6-212a5237e5a2",
   "metadata": {},
   "outputs": [
    {
     "name": "stdin",
     "output_type": "stream",
     "text": [
      "Kullanıcı adınızı oluşturun:  tugva\n",
      "Şifrenizi oluşturun (5-10 karakter arasında):  7Eduf123\n"
     ]
    },
    {
     "name": "stdout",
     "output_type": "stream",
     "text": [
      "Hesabınız oluşturuldu.\n"
     ]
    }
   ],
   "source": [
    "while True:\n",
    "    # Kullanıcıdan kullanıcı adı ve şifre al\n",
    "    kullanici_adi = input(\"Kullanıcı adınızı oluşturun: \")\n",
    "    sifre = input(\"Şifrenizi oluşturun (5-10 karakter arasında): \")\n",
    "\n",
    "    # Şifrenin uzunluğunu kontrol et\n",
    "    if 5 <= len(sifre) <= 10:\n",
    "        print(\"Hesabınız oluşturuldu.\")\n",
    "        break  # Döngüden çık\n",
    "    else:\n",
    "        print(\"Lütfen girdiniz şifre 5 haneden az 10 haneden fazla olmasın!\")\n",
    "        print(\"Tekrar deneyin.\\n\")\n"
   ]
  },
  {
   "cell_type": "code",
   "execution_count": 8,
   "id": "b192a340-8a84-4735-8a18-bea3cd4ee2e4",
   "metadata": {},
   "outputs": [
    {
     "name": "stdin",
     "output_type": "stream",
     "text": [
      "İsminiz:  zeliha\n",
      "Şifrenizi girin:  7eduf123\n"
     ]
    },
    {
     "name": "stdout",
     "output_type": "stream",
     "text": [
      "Yanlış şifre girildi! Kalan deneme hakkınız: 2\n"
     ]
    },
    {
     "name": "stdin",
     "output_type": "stream",
     "text": [
      "Şifrenizi girin:  Gizli123\n"
     ]
    },
    {
     "name": "stdout",
     "output_type": "stream",
     "text": [
      "Merhaba zeliha, Giriş yapıldı.\n"
     ]
    }
   ],
   "source": [
    "# Önceden tanımlı şifre\n",
    "tanimli_sifre = \"Gizli123\"\n",
    "\n",
    "# Kullanıcıdan isim al\n",
    "isim = input(\"İsminiz: \")\n",
    "\n",
    "# Deneme sayısını belirle\n",
    "max_deneme = 3\n",
    "deneme = 0\n",
    "\n",
    "while deneme < max_deneme:\n",
    "    # Kullanıcıdan şifre al\n",
    "    girilen_sifre = input(\"Şifrenizi girin: \")\n",
    "    \n",
    "    # Şifre kontrolü\n",
    "    if girilen_sifre == tanimli_sifre:\n",
    "        print(f\"Merhaba {isim}, Giriş yapıldı.\")\n",
    "        break\n",
    "    else:\n",
    "        deneme += 1\n",
    "        kalan_hak = max_deneme - deneme\n",
    "        if kalan_hak > 0:\n",
    "            print(f\"Yanlış şifre girildi! Kalan deneme hakkınız: {kalan_hak}\")\n",
    "        else:\n",
    "            print(\"Üç kez yanlış şifre girdiniz. Program sonlandırılıyor.\")\n"
   ]
  },
  {
   "cell_type": "code",
   "execution_count": null,
   "id": "82c0ded8-89f2-4373-a70d-345d591ac933",
   "metadata": {},
   "outputs": [],
   "source": []
  }
 ],
 "metadata": {
  "kernelspec": {
   "display_name": "Python 3 (ipykernel)",
   "language": "python",
   "name": "python3"
  },
  "language_info": {
   "codemirror_mode": {
    "name": "ipython",
    "version": 3
   },
   "file_extension": ".py",
   "mimetype": "text/x-python",
   "name": "python",
   "nbconvert_exporter": "python",
   "pygments_lexer": "ipython3",
   "version": "3.12.4"
  }
 },
 "nbformat": 4,
 "nbformat_minor": 5
}
